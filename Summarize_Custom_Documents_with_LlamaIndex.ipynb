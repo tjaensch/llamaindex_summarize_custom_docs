{
  "nbformat": 4,
  "nbformat_minor": 0,
  "metadata": {
    "colab": {
      "provenance": []
    },
    "kernelspec": {
      "name": "python3",
      "display_name": "Python 3"
    },
    "language_info": {
      "name": "python"
    }
  },
  "cells": [
    {
      "cell_type": "code",
      "execution_count": null,
      "metadata": {
        "id": "Ntaq-c-qxG9q"
      },
      "outputs": [],
      "source": [
        "!pip install llama-index docx2txt pypdf"
      ]
    },
    {
      "cell_type": "code",
      "source": [
        "import os\n",
        "\n",
        "os.environ[\"OPENAI_API_KEY\"] = \"YOUR_OPENAPI_API_KEY\""
      ],
      "metadata": {
        "id": "AVaalMCMxeTE"
      },
      "execution_count": null,
      "outputs": []
    },
    {
      "cell_type": "code",
      "source": [
        "from llama_index import VectorStoreIndex, SimpleDirectoryReader\n",
        "\n",
        "documents = SimpleDirectoryReader('/content/data').load_data()\n",
        "index = VectorStoreIndex.from_documents(documents)"
      ],
      "metadata": {
        "id": "FGVcZwEqx076"
      },
      "execution_count": null,
      "outputs": []
    },
    {
      "cell_type": "code",
      "source": [
        "query_engine = index.as_query_engine()\n",
        "print(query_engine.query(\"Could you summarize the given context? Return your response which covers the key points of the text and does not miss anything important, please.\"))"
      ],
      "metadata": {
        "id": "vrNJr6lpzaAr"
      },
      "execution_count": null,
      "outputs": []
    }
  ]
}